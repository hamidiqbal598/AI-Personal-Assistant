{
 "cells": [
  {
   "cell_type": "code",
   "execution_count": 1,
   "metadata": {},
   "outputs": [],
   "source": [
    "#-------------------------------- Libraries to Install ------------------------\n",
    "import speech_recognition as sr\n",
    "import pyttsx3\n",
    "import datetime\n",
    "import wikipedia\n",
    "import webbrowser\n",
    "import os\n",
    "import time\n",
    "import subprocess\n",
    "from ecapture import ecapture as ec\n",
    "import wolframalpha\n",
    "import json\n",
    "import requests\n",
    "#------------------------------------------------------------------------------"
   ]
  },
  {
   "cell_type": "code",
   "execution_count": 2,
   "metadata": {},
   "outputs": [],
   "source": [
    "engine=pyttsx3.init('dummy')\n",
    "voices=engine.getProperty('voices')\n",
    "engine.setProperty('voice','voices[0].id')"
   ]
  },
  {
   "cell_type": "code",
   "execution_count": 3,
   "metadata": {},
   "outputs": [],
   "source": [
    "def speak(text):\n",
    "    engine.say(text)\n",
    "    engine.runAndWait()"
   ]
  },
  {
   "cell_type": "code",
   "execution_count": 4,
   "metadata": {},
   "outputs": [],
   "source": [
    "def wishMe():\n",
    "    hour=datetime.datetime.now().hour\n",
    "    if hour>=0 and hour<12:\n",
    "        speak(\"Hello,Good Morning\")\n",
    "        print(\"Hello,Good Morning\")\n",
    "    elif hour>=12 and hour<18:\n",
    "        speak(\"Hello,Good Afternoon\")\n",
    "        print(\"Hello,Good Afternoon\")\n",
    "    else:\n",
    "        speak(\"Hello,Good Evening\")\n",
    "        print(\"Hello,Good Evening\")"
   ]
  },
  {
   "cell_type": "code",
   "execution_count": 5,
   "metadata": {},
   "outputs": [
    {
     "name": "stdout",
     "output_type": "stream",
     "text": [
      "Loading your AI personal assistant\n",
      "Hello,Good Afternoon\n"
     ]
    }
   ],
   "source": [
    "def takeCommand():\n",
    "    r=sr.Recognizer()\n",
    "    with sr.Microphone() as source:\n",
    "        print(\"Listening...\")\n",
    "        audio=r.listen(source)\n",
    "        try:\n",
    "            statement=r.recognize_google(audio,language='en-pak')\n",
    "            print(f\"user said:{statement}\\n\")\n",
    "\n",
    "        except Exception as e:\n",
    "            speak(\"Please say that again\")\n",
    "            return \"None\"\n",
    "        return statement\n",
    "\n",
    "speak(\"Loading your AI personal assistant\")\n",
    "print(\"Loading your AI personal assistant\")\n",
    "wishMe()"
   ]
  },
  {
   "cell_type": "code",
   "execution_count": 6,
   "metadata": {},
   "outputs": [
    {
     "name": "stdout",
     "output_type": "stream",
     "text": [
      "Listening...\n",
      "user said:okay my name is Hamid\n",
      "\n",
      "Listening...\n",
      "Listening...\n",
      "Listening...\n",
      "Listening...\n",
      "Listening...\n",
      "user said:okay goodbye\n",
      "\n",
      "Listening...\n",
      "Listening...\n",
      "Listening...\n",
      "Listening...\n",
      "Listening...\n",
      "Listening...\n",
      "Listening...\n",
      "Listening...\n",
      "user said:OK Google\n",
      "\n",
      "Listening...\n",
      "Listening...\n",
      "Listening...\n",
      "Listening...\n",
      "user said:stop\n",
      "\n",
      "your personal assistant G-one is shutting down,Good bye\n"
     ]
    }
   ],
   "source": [
    "if __name__=='__main__':\n",
    "\n",
    "    while True:\n",
    "        speak(\"Tell me how can I help you now?\")\n",
    "        statement = takeCommand().lower()\n",
    "        if statement==0:\n",
    "            continue\n",
    "\n",
    "        if \"good bye\" in statement or \"ok bye\" in statement or \"stop\" in statement or \"goodbye\" in statement:\n",
    "            speak('your personal assistant is shutting down,Good bye')\n",
    "            print('your personal assistant is shutting down,Good bye')\n",
    "            break\n",
    "\n",
    "        if 'wikipedia' in statement:\n",
    "            speak('Searching Wikipedia...')\n",
    "            statement =statement.replace(\"wikipedia\", \"\")\n",
    "            results = wikipedia.summary(statement, sentences=3)\n",
    "            speak(\"According to Wikipedia\")\n",
    "            print(results)\n",
    "            speak(results)\n",
    "\n",
    "        elif 'open youtube' in statement:\n",
    "            webbrowser.open_new_tab(\"https://www.youtube.com\")\n",
    "            speak(\"youtube is open now\")\n",
    "            time.sleep(5)\n",
    "\n",
    "        elif 'open google' in statement:\n",
    "            webbrowser.open_new_tab(\"https://www.google.com\")\n",
    "            speak(\"Google chrome is open now\")\n",
    "            time.sleep(5)\n",
    "\n",
    "        elif 'open gmail' in statement:\n",
    "            webbrowser.open_new_tab(\"gmail.com\")\n",
    "            speak(\"Google Mail open now\")\n",
    "            time.sleep(5)\n",
    "\n",
    "        elif 'time' in statement:\n",
    "            strTime=datetime.datetime.now().strftime(\"%H:%M:%S\")\n",
    "            speak(f\"the time is {strTime}\")\n",
    "\n",
    "        elif 'who are you' in statement or 'what can you do' in statement:\n",
    "            speak('I am your persoanl assistant!')\n",
    "\n",
    "\n",
    "        elif \"open stackoverflow\" in statement:\n",
    "            webbrowser.open_new_tab(\"https://stackoverflow.com/login\")\n",
    "            speak(\"Here is stackoverflow\")\n",
    "\n",
    "        elif \"camera\" in statement or \"take a photo\" in statement:\n",
    "            ec.capture(0,\"robo camera\",\"img.jpg\")\n",
    "\n",
    "        elif 'search'  in statement:\n",
    "            statement = statement.replace(\"search\", \"\")\n",
    "            webbrowser.open_new_tab(statement)\n",
    "            time.sleep(5)\n",
    "\n",
    "        elif \"log off\" in statement or \"sign out\" in statement:\n",
    "            speak(\"Ok , your pc will log off in 10 sec make sure you exit from all applications\")\n",
    "            subprocess.call([\"shutdown\", \"/l\"])\n",
    "\n",
    "time.sleep(3)"
   ]
  },
  {
   "cell_type": "code",
   "execution_count": null,
   "metadata": {},
   "outputs": [],
   "source": []
  },
  {
   "cell_type": "code",
   "execution_count": null,
   "metadata": {},
   "outputs": [],
   "source": []
  },
  {
   "cell_type": "code",
   "execution_count": null,
   "metadata": {},
   "outputs": [],
   "source": []
  },
  {
   "cell_type": "code",
   "execution_count": null,
   "metadata": {},
   "outputs": [],
   "source": []
  },
  {
   "cell_type": "code",
   "execution_count": null,
   "metadata": {},
   "outputs": [],
   "source": []
  }
 ],
 "metadata": {
  "kernelspec": {
   "display_name": "Python 3",
   "language": "python",
   "name": "python3"
  },
  "language_info": {
   "codemirror_mode": {
    "name": "ipython",
    "version": 3
   },
   "file_extension": ".py",
   "mimetype": "text/x-python",
   "name": "python",
   "nbconvert_exporter": "python",
   "pygments_lexer": "ipython3",
   "version": "3.8.5"
  }
 },
 "nbformat": 4,
 "nbformat_minor": 4
}
